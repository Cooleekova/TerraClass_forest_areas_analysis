{
 "cells": [
  {
   "cell_type": "code",
   "execution_count": null,
   "id": "e8e4e801",
   "metadata": {},
   "outputs": [],
   "source": [
    "all_intersections = []"
   ]
  },
  {
   "cell_type": "code",
   "execution_count": 16,
   "id": "55da66e5",
   "metadata": {},
   "outputs": [],
   "source": [
    "def find_intersections(dataframe, count=0):\n",
    "    \n",
    "    # select the first buffer polygon from the dataframe and create GeoSeries\n",
    "    first = dataframe.iloc[count, 0]\n",
    "    \n",
    "    # find all buffers which intersect chosen polygon (they will be returned as True)\n",
    "    intersections = dataframe[\"geometry\"].intersects(first)\n",
    "    \n",
    "    # save found intersections into separete dataframe\n",
    "    result = dataframe.loc[intersections]\n",
    "    \n",
    "    # if there are intersections, unite polygons and save\n",
    "    # if number of intersections is 1, it means that polygon intersects only itself\n",
    "    if result.shape[0] > 1:\n",
    "            \n",
    "            #union all intersecting buffers into one polygon \n",
    "            union = result[\"geometry\"].unary_union\n",
    "    \n",
    "            # create new dataframe and save new polygon in it\n",
    "            corridor = geopandas.GeoDataFrame(\n",
    "                data=[[union, \"corridor\"]], \n",
    "                columns = [\"geometry\", \"geo_type\"], \n",
    "                geometry=[union], \n",
    "                crs='epsg:5641')\n",
    "\n",
    "            # delete processed buffers from initial dataframe and reset index\n",
    "            dataframe = dataframe[~dataframe.index.isin(result.index)]\n",
    "            \n",
    "            #insert found corridor back into dataframe\n",
    "            dataframe = geopandas.GeoDataFrame(pd.concat([corridor, dataframe], ignore_index=True))\n",
    "            \n",
    "            # repeat the same process on the rest of the data in the dataframe         \n",
    "            find_intersections(dataframe, count=0)\n",
    "    \n",
    "    # if number of intersections is 1, it means that polygon intersects only itself\n",
    "    # now it should be saved in the resulting list\n",
    "    if result.shape[0] <= 1:\n",
    "        \n",
    "        # create new dataframe and save new polygon in it\n",
    "        if result[\"polygon\"].any():\n",
    "            separate_polygon = geopandas.GeoDataFrame(data=[[result.iloc[0, 2], result.iloc[0, 1]]], columns = [\"geometry\", \"geo_type\"], geometry=[result.iloc[0, 2]], crs='epsg:5641')\n",
    "        else:\n",
    "            separate_polygon = geopandas.GeoDataFrame(data=[[result.iloc[0, 0], result.iloc[0, 1]]], columns = [\"geometry\", \"geo_type\"], geometry=[result.iloc[0, 0]], crs='epsg:5641')\n",
    "        \n",
    "        #insert new dataframe into the resulting list\n",
    "        all_intersections.append(separate_polygon)\n",
    "        \n",
    "        # delete processed polygon from initial dataframe and reset index\n",
    "        dataframe = dataframe[~dataframe.index.isin(result.index)]\n",
    "        dataframe = dataframe.reset_index()\n",
    "        dataframe = dataframe.drop(columns=\"index\")\n",
    "        \n",
    "        # if there are still polygons in the datframe, apply the function again\n",
    "        if count < dataframe.shape[0]:\n",
    "            find_intersections(dataframe, count = count)\n",
    "            \n",
    "    return all_intersections"
   ]
  },
  {
   "cell_type": "code",
   "execution_count": 18,
   "id": "ab6ebee8",
   "metadata": {},
   "outputs": [],
   "source": [
    "def create_geodataframe(dataframe):\n",
    "    if all_intersections:\n",
    "        all_intersections.clear()\n",
    "    lst = find_intersections(dataframe)\n",
    "    print(\"Intersections found: \", len(lst))\n",
    "    gdf = geopandas.GeoDataFrame(pd.concat(lst, ignore_index=True))\n",
    "    return gdf"
   ]
  },
  {
   "cell_type": "code",
   "execution_count": null,
   "id": "f831c132",
   "metadata": {},
   "outputs": [],
   "source": []
  }
 ],
 "metadata": {
  "kernelspec": {
   "display_name": "Python 3 (ipykernel)",
   "language": "python",
   "name": "python3"
  },
  "language_info": {
   "codemirror_mode": {
    "name": "ipython",
    "version": 3
   },
   "file_extension": ".py",
   "mimetype": "text/x-python",
   "name": "python",
   "nbconvert_exporter": "python",
   "pygments_lexer": "ipython3",
   "version": "3.10.9"
  }
 },
 "nbformat": 4,
 "nbformat_minor": 5
}
